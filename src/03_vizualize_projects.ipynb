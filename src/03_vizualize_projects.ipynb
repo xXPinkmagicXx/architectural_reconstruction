{
 "cells": [
  {
   "cell_type": "code",
   "execution_count": null,
   "id": "607ce7e3",
   "metadata": {},
   "outputs": [],
   "source": [
    "import os\n",
    "from dotenv import load_dotenv\n",
    "load_dotenv()\n",
    "import constants as c\n",
    "import utils\n",
    "import networkx as nx\n",
    "import matplotlib.pyplot as plt\n",
    "import graphs"
   ]
  },
  {
   "cell_type": "code",
   "execution_count": null,
   "id": "609c2eb6",
   "metadata": {},
   "outputs": [],
   "source": [
    "azure_pat = os.getenv(c.AZURE_TOKEN_ENV_KEY)"
   ]
  },
  {
   "cell_type": "markdown",
   "id": "461af792",
   "metadata": {},
   "source": [
    "## Visualize All Projects"
   ]
  },
  {
   "cell_type": "code",
   "execution_count": null,
   "id": "299a50e2",
   "metadata": {},
   "outputs": [],
   "source": [
    "G = graphs.create_digraph_all()\n",
    "pos = nx.spring_layout(G, k = 0.6, iterations=10)  # positions for all nodes\n",
    "pos = nx.circular_layout(G)  # positions for all nodes\n",
    "graphs.draw_graph(G, pos, with_labels=True)\n",
    "plt.title(\"BusinessLogic Module View\")\n",
    "plt.savefig(c.MODULE_VIEW_IMG_PATH, format=\"png\", dpi=300, bbox_inches='tight')"
   ]
  },
  {
   "cell_type": "markdown",
   "id": "de956452",
   "metadata": {},
   "source": [
    "## Visualize Each Projects"
   ]
  },
  {
   "cell_type": "markdown",
   "id": "3b59fe6b",
   "metadata": {},
   "source": [
    "### Common.Base"
   ]
  },
  {
   "cell_type": "code",
   "execution_count": null,
   "id": "cfe25cf6",
   "metadata": {},
   "outputs": [],
   "source": [
    "G = graphs.create_digraph_project(c.PROJECT_NAME_COMMON_BASE)\n",
    "pos = nx.spring_layout(G, k=0.5, iterations=25)  # positions for all nodes\n",
    "graphs.draw_graph(G, pos, with_labels=True)"
   ]
  },
  {
   "cell_type": "markdown",
   "id": "058f1aac",
   "metadata": {},
   "source": [
    "### Income.Base"
   ]
  },
  {
   "cell_type": "code",
   "execution_count": null,
   "id": "07bda29c",
   "metadata": {},
   "outputs": [],
   "source": [
    "G = graphs.create_digraph_project(c.PROJECT_NAME_INCOME_BASE, abstraction_level=3, ignore_circular_dep=True)\n",
    "print(\"# nodes\", len(G.nodes))\n",
    "pos = nx.circular_layout(G)  # positions for all nodes\n",
    "pos = nx.spring_layout(G, k=0.5, iterations=25)  # positions for all nodes\n",
    "graphs.draw_graph(G, pos, with_labels=True)"
   ]
  },
  {
   "cell_type": "code",
   "execution_count": null,
   "id": "31daa094",
   "metadata": {},
   "outputs": [],
   "source": [
    "G.edges(data=True)"
   ]
  },
  {
   "cell_type": "markdown",
   "id": "3f6f861f",
   "metadata": {},
   "source": [
    "### Income.Entities"
   ]
  },
  {
   "cell_type": "code",
   "execution_count": null,
   "id": "d1da2f41",
   "metadata": {},
   "outputs": [],
   "source": [
    "G = graphs.create_digraph_project(c.PROJECT_NAME_INCOME_ENTITIES, ignore_circular_dep=True)\n",
    "pos = nx.spring_layout(G, k=0.5, iterations=25)  # positions for all nodes\n",
    "graphs.draw_graph(G, pos, with_labels=True)"
   ]
  },
  {
   "cell_type": "code",
   "execution_count": null,
   "id": "d1642207",
   "metadata": {},
   "outputs": [],
   "source": []
  }
 ],
 "metadata": {
  "kernelspec": {
   "display_name": "AR",
   "language": "python",
   "name": "ar"
  },
  "language_info": {
   "codemirror_mode": {
    "name": "ipython",
    "version": 3
   },
   "file_extension": ".py",
   "mimetype": "text/x-python",
   "name": "python",
   "nbconvert_exporter": "python",
   "pygments_lexer": "ipython3",
   "version": "3.12.3"
  }
 },
 "nbformat": 4,
 "nbformat_minor": 5
}
