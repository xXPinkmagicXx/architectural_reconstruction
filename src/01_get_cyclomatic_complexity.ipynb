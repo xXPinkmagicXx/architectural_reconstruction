{
 "cells": [
  {
   "cell_type": "code",
   "execution_count": null,
   "id": "b7b3ae5e",
   "metadata": {},
   "outputs": [],
   "source": [
    "import os\n",
    "from dotenv import load_dotenv\n",
    "load_dotenv()\n",
    "import constants as c\n",
    "import utils\n",
    "import lizard\n",
    "import pandas as pd"
   ]
  },
  {
   "cell_type": "code",
   "execution_count": null,
   "id": "f46b6b69",
   "metadata": {},
   "outputs": [],
   "source": [
    "excel_sheet = pd.read_excel(\"../data/income_base_metrics.xlsx\", sheet_name=\"Ark1\")\n",
    "types = excel_sheet[excel_sheet[\"Scope\"]==\"Type\"]"
   ]
  },
  {
   "cell_type": "code",
   "execution_count": null,
   "id": "e7e1b1dd",
   "metadata": {},
   "outputs": [],
   "source": [
    "columns_to_drop = ['Project', 'Scope', 'Member']\n",
    "clean = types.drop(columns=columns_to_drop)"
   ]
  },
  {
   "cell_type": "code",
   "execution_count": null,
   "id": "8b2726f0",
   "metadata": {},
   "outputs": [],
   "source": [
    "clean"
   ]
  },
  {
   "cell_type": "code",
   "execution_count": null,
   "id": "55d31877",
   "metadata": {},
   "outputs": [],
   "source": [
    "types"
   ]
  }
 ],
 "metadata": {
  "kernelspec": {
   "display_name": "AR",
   "language": "python",
   "name": "ar"
  },
  "language_info": {
   "codemirror_mode": {
    "name": "ipython",
    "version": 3
   },
   "file_extension": ".py",
   "mimetype": "text/x-python",
   "name": "python",
   "nbconvert_exporter": "python",
   "pygments_lexer": "ipython3",
   "version": "3.12.3"
  }
 },
 "nbformat": 4,
 "nbformat_minor": 5
}
