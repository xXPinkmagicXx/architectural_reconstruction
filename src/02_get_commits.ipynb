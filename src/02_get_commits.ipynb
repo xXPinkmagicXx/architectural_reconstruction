{
 "cells": [
  {
   "cell_type": "code",
   "execution_count": null,
   "id": "e3769106",
   "metadata": {},
   "outputs": [],
   "source": [
    "import os\n",
    "from dotenv import load_dotenv\n",
    "load_dotenv()\n",
    "import constants as c\n",
    "from requests.auth import HTTPBasicAuth\n",
    "import utils\n",
    "import requests\n",
    "import csv"
   ]
  },
  {
   "cell_type": "markdown",
   "id": "4bdcd54d",
   "metadata": {},
   "source": [
    "# Gather Commit Data from BusinessLogic"
   ]
  },
  {
   "cell_type": "code",
   "execution_count": null,
   "id": "30a6f687",
   "metadata": {},
   "outputs": [],
   "source": [
    "azure_pat = os.getenv(c.AZURE_TOKEN_ENV_KEY)"
   ]
  },
  {
   "cell_type": "code",
   "execution_count": null,
   "id": "dcc20288",
   "metadata": {},
   "outputs": [],
   "source": [
    "def get_commit_data(commit):\n",
    "    commit_id = commit[\"commitId\"]\n",
    "    author = commit[\"author\"][\"email\"].split(\"@\")[0]\n",
    "    date = commit[\"author\"][\"date\"]\n",
    "    message = commit[\"comment\"]\n",
    "    url = commit[\"remoteUrl\"]\n",
    "    adds = commit[\"changeCounts\"][\"Add\"]\n",
    "    deletes = commit[\"changeCounts\"][\"Delete\"]\n",
    "    changes = commit[\"changeCounts\"][\"Edit\"]\n",
    "\n",
    "    return {\n",
    "        \"commit_id\": commit_id,\n",
    "        \"author\": author,\n",
    "        \"date\": date,\n",
    "        \"message\": message,\n",
    "        \"url\": url,\n",
    "        \"adds\": adds,\n",
    "        \"deletes\": deletes,\n",
    "        \"changes\": changes\n",
    "    }"
   ]
  },
  {
   "cell_type": "code",
   "execution_count": null,
   "id": "2d0dfe49",
   "metadata": {},
   "outputs": [],
   "source": [
    "fieldNames = [\"commit_id\", \"author\", \"date\", \"message\", \"url\", \"adds\", \"deletes\", \"changes\"]"
   ]
  },
  {
   "cell_type": "markdown",
   "id": "849b072f",
   "metadata": {},
   "source": [
    "# Generate file `commit_data.csv`"
   ]
  },
  {
   "cell_type": "code",
   "execution_count": null,
   "id": "5505c7f7",
   "metadata": {},
   "outputs": [],
   "source": [
    "if os.path.exists(c.COMMIT_DATA_FILE_NAME):\n",
    "    os.remove(c.COMMIT_DATA_FILE_NAME)\n",
    "skip = 0\n",
    "top = 100\n",
    "while True:\n",
    "    params = {\n",
    "        \"searchCriteria.$top\": top,\n",
    "        \"searchCriteria.$skip\": skip,\n",
    "    }\n",
    "    response = requests.get(c.BASE_COMMIT_URL, auth=HTTPBasicAuth('', azure_pat), params=params)\n",
    "        \n",
    "\n",
    "    if response.status_code != 200:\n",
    "        print(\"Error: \", response.status_code, response.text)\n",
    "\n",
    "    data = response.json()[\"value\"]\n",
    "    if not data:\n",
    "        print(\"No more commits to process.\")\n",
    "        break\n",
    "    print(f\"Total commits: {len(data)}\")    \n",
    "    print(f\"Processing {skip}-{skip+top} commits...\")\n",
    "    with open(c.COMMIT_DATA_FILE_NAME, mode='a', newline='') as file:\n",
    "        writer = csv.DictWriter(file, fieldnames=fieldNames)\n",
    "        if skip == 0: \n",
    "            writer.writeheader()\n",
    "        for commit in data:\n",
    "            commit_data = get_commit_data(commit)\n",
    "            writer.writerow(commit_data)    \n",
    "    skip += top\n",
    "    print(f\"skip: {skip}, top: {top}\")"
   ]
  }
 ],
 "metadata": {
  "kernelspec": {
   "display_name": "AR",
   "language": "python",
   "name": "ar"
  },
  "language_info": {
   "codemirror_mode": {
    "name": "ipython",
    "version": 3
   },
   "file_extension": ".py",
   "mimetype": "text/x-python",
   "name": "python",
   "nbconvert_exporter": "python",
   "pygments_lexer": "ipython3",
   "version": "3.12.3"
  }
 },
 "nbformat": 4,
 "nbformat_minor": 5
}
