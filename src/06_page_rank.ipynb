{
 "cells": [
  {
   "cell_type": "code",
   "execution_count": null,
   "id": "19a89eca",
   "metadata": {},
   "outputs": [],
   "source": [
    "import os\n",
    "from dotenv import load_dotenv\n",
    "load_dotenv()\n",
    "import constants as c\n",
    "import utils\n",
    "import networkx as nx\n",
    "import matplotlib.pyplot as plt\n",
    "import graphs"
   ]
  },
  {
   "cell_type": "code",
   "execution_count": null,
   "id": "02a67908",
   "metadata": {},
   "outputs": [],
   "source": [
    "G = graphs.create_dependicy_graph_file_names()"
   ]
  },
  {
   "cell_type": "code",
   "execution_count": null,
   "id": "164c8099",
   "metadata": {},
   "outputs": [],
   "source": [
    "nx.pagerank(G)"
   ]
  },
  {
   "cell_type": "code",
   "execution_count": null,
   "id": "26ecec7d",
   "metadata": {},
   "outputs": [],
   "source": [
    "# Calculate PageRank\",\"\",\"# Draw the graph with node sizes proportional to PageRank values\",\n",
    "pagerank = nx.pagerank(G)\n",
    "plt.figure(figsize=(12, 8))\n",
    "node_sizes = [v * 10000 for v in pagerank.values()]  # Scale up for better visualization\",\n",
    "\n",
    "nx.draw_networkx(G, with_labels=False, node_size=node_sizes, cmap=plt.cm.Blues, node_color=list(pagerank.values()))\n",
    "\n",
    "plt.title('Graph Visualization with PageRank')\n",
    "plt.show()"
   ]
  },
  {
   "cell_type": "code",
   "execution_count": null,
   "id": "730cafac",
   "metadata": {},
   "outputs": [],
   "source": []
  }
 ],
 "metadata": {
  "kernelspec": {
   "display_name": "AR",
   "language": "python",
   "name": "ar"
  },
  "language_info": {
   "codemirror_mode": {
    "name": "ipython",
    "version": 3
   },
   "file_extension": ".py",
   "mimetype": "text/x-python",
   "name": "python",
   "nbconvert_exporter": "python",
   "pygments_lexer": "ipython3",
   "version": "3.12.3"
  }
 },
 "nbformat": 4,
 "nbformat_minor": 5
}
