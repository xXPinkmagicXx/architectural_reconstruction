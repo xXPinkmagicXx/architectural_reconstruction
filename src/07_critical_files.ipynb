{
 "cells": [
  {
   "cell_type": "code",
   "execution_count": null,
   "id": "607ce7e3",
   "metadata": {},
   "outputs": [],
   "source": [
    "import os\n",
    "from dotenv import load_dotenv\n",
    "load_dotenv()\n",
    "import constants as c\n",
    "import networkx as nx\n",
    "import graphs\n",
    "import utils\n",
    "import networkx as nx\n",
    "import matplotlib.pyplot as plt\n",
    "from matplotlib import cm\n",
    "import matplotlib.colors as mcolors\n",
    "import pandas as pd\n",
    "import processing"
   ]
  },
  {
   "cell_type": "code",
   "execution_count": null,
   "id": "8c72816d",
   "metadata": {},
   "outputs": [],
   "source": [
    "# flags \n",
    "DRAW_RAW_DEPENDENCY_GRAPH = False"
   ]
  },
  {
   "cell_type": "code",
   "execution_count": null,
   "id": "609c2eb6",
   "metadata": {},
   "outputs": [],
   "source": [
    "azure_pat = os.getenv(c.AZURE_TOKEN_ENV_KEY)"
   ]
  },
  {
   "cell_type": "markdown",
   "id": "69284b37",
   "metadata": {},
   "source": [
    "## Drawing of the full dependency graph "
   ]
  },
  {
   "cell_type": "code",
   "execution_count": null,
   "id": "7a0b9545",
   "metadata": {},
   "outputs": [],
   "source": [
    "if DRAW_RAW_DEPENDENCY_GRAPH:\n",
    "    G = graphs.draw_problem_graph(as_barpartite=False)"
   ]
  },
  {
   "cell_type": "code",
   "execution_count": null,
   "id": "1d17bda1",
   "metadata": {},
   "outputs": [],
   "source": [
    "if DRAW_RAW_DEPENDENCY_GRAPH:\n",
    "    G = graphs.draw_problem_graph(as_barpartite=True)\n"
   ]
  },
  {
   "cell_type": "code",
   "execution_count": null,
   "id": "e001a5ef",
   "metadata": {},
   "outputs": [],
   "source": [
    "def get_levels(G: nx.DiGraph) -> list[list[str]]:\n",
    "    nodes: list[str] = list(G.nodes())\n",
    "    result = dict[str, int]()\n",
    "    for node in nodes:\n",
    "        level = len(node.split(\".\")) - 2\n",
    "        result[node] = level\n",
    "    return result\n"
   ]
  },
  {
   "cell_type": "markdown",
   "id": "0292d7b6",
   "metadata": {},
   "source": [
    "## Filtering"
   ]
  },
  {
   "cell_type": "code",
   "execution_count": null,
   "id": "3ab20013",
   "metadata": {},
   "outputs": [],
   "source": [
    "# excel_sheet = pd.read_excel(\"../data/income_base_metrics.xlsx\", sheet_name=\"Ark1\")\n",
    "# types = excel_sheet[excel_sheet[\"Scope\"]==\"Type\"]\n",
    "# columns_to_drop = ['Project', 'Scope', 'Member']\n",
    "# clean = types.drop(columns=columns_to_drop)"
   ]
  },
  {
   "cell_type": "code",
   "execution_count": null,
   "id": "7651ed45",
   "metadata": {},
   "outputs": [],
   "source": [
    "# clean"
   ]
  },
  {
   "cell_type": "code",
   "execution_count": null,
   "id": "4e45112d",
   "metadata": {},
   "outputs": [],
   "source": [
    "# for node, attr in G.nodes(data=True):\n",
    "#     if attr[\"type\"] != \"file\":\n",
    "#         continue\n",
    "#     namespace, class_name = get_class_name(node)\n",
    "#     cyc = utils.get_cyclomatic_complexity(clean, namespace, class_name)\n",
    "#     attr[\"cc\"] = cyc"
   ]
  },
  {
   "cell_type": "markdown",
   "id": "6111e1a2",
   "metadata": {},
   "source": [
    "### Filter - Only top 10 words files"
   ]
  },
  {
   "cell_type": "code",
   "execution_count": null,
   "id": "aaaf1a8b",
   "metadata": {},
   "outputs": [],
   "source": [
    "# Combine all the metrics\n",
    "G = graphs.create_digraph_files_to_namespace(c.PROJECT_NAME_INCOME_BASE)"
   ]
  },
  {
   "cell_type": "code",
   "execution_count": null,
   "id": "57080534",
   "metadata": {},
   "outputs": [],
   "source": [
    "# Combine all the metrics\n",
    "nodes_data = G.nodes(data=True)\n",
    "files_size = [attr['lines'] for _, attr in nodes_data if attr['type'] == \"file\"] \n",
    "# file_cc = [attr['cc'] for _, attr in nodes_data if attr['type'] == \"file\"]\n",
    "# file_in_degree = [G.in_degree(node) for node, attr in nodes_data if attr['type'] == \"file\"]\n",
    "file_out_degree = [G.out_degree(node) for node, attr in nodes_data if attr['type'] == \"file\"]\n",
    "\n",
    "# normalized_file_cc = normalize(file_cc)\n",
    "normalized_file_size = processing.normalize(files_size)\n",
    "normalized_file_out_degree = processing.normalize(file_out_degree)\n",
    "\n",
    "# Do nomalization\n",
    "norm_file_sizes = [normalized_file_size(lines) for lines in files_size]\n",
    "norm_file_out_degrees = [normalized_file_out_degree(out_degree) for out_degree in file_out_degree]\n",
    "\n",
    "\n",
    "comb = [(size + out_degree)/2 for size, out_degree in zip(norm_file_sizes, norm_file_out_degrees)]\n",
    "\n",
    "# Add as attributes to the graph\n",
    "i = 0\n",
    "for node, attr in G.nodes(data=True): \n",
    "    if attr[\"type\"] != \"file\":\n",
    "        continue\n",
    "    attr[\"combined\"] = comb[i]\n",
    "    i += 1\n",
    "\n",
    "\n"
   ]
  },
  {
   "cell_type": "code",
   "execution_count": null,
   "id": "f1ab69b7",
   "metadata": {},
   "outputs": [],
   "source": [
    "graphs.draw_critcal_files_graph(G=G, n_critical_files=10, with_labels=True)\n",
    "plt.savefig(c.CRITICAL_FILES_IMG_PAHT, dpi=300, bbox_inches='tight')"
   ]
  },
  {
   "cell_type": "markdown",
   "id": "9759013c",
   "metadata": {},
   "source": [
    "### Filter by each metrics\n",
    "This shows how the graph looks like when you filter the graph by the values in the 'filter values' block"
   ]
  },
  {
   "cell_type": "code",
   "execution_count": null,
   "id": "6488b04c",
   "metadata": {},
   "outputs": [],
   "source": [
    "# Before filtering save the normalized \n",
    "data, norm_files, data2, norm_namespace = processing.get_normalized(G)"
   ]
  },
  {
   "cell_type": "code",
   "execution_count": null,
   "id": "fa8f4407",
   "metadata": {},
   "outputs": [],
   "source": [
    "# filter vales\n",
    "n_lines = 1000 # number of lines in the file\n",
    "critical_file_out_degree = 10 # number of namespaces that a file depend on \n",
    "namespace_in_degree = 10 \n",
    "# namespace_out_degree = 5"
   ]
  },
  {
   "cell_type": "code",
   "execution_count": null,
   "id": "5421b018",
   "metadata": {},
   "outputs": [],
   "source": [
    "def remove_file_node(G, node, attr)-> bool:\n",
    "    if not attr['type'] == \"file\":\n",
    "        return False\n",
    "    \n",
    "    if attr['lines'] < n_lines:\n",
    "        return True\n",
    "    \n",
    "    if G.out_degree(node) < critical_file_out_degree:\n",
    "        return True\n",
    "    \n",
    "    return False"
   ]
  },
  {
   "cell_type": "code",
   "execution_count": null,
   "id": "b048e308",
   "metadata": {},
   "outputs": [],
   "source": [
    "# Removes files with less than n_lines(1000) lines of code\n",
    "all_nodes = list(G.nodes(data=True))\n",
    "nodes_before = len(all_nodes)\n",
    "for node, attr in all_nodes:\n",
    "    if remove_file_node(G, node, attr):\n",
    "        G.remove_node(node)\n",
    "\n",
    "\n",
    "nodes_after = len(G.nodes(data=True))\n",
    "print(\"Nodes before:\", nodes_before)\n",
    "print(\"Nodes after:\", nodes_after)    "
   ]
  },
  {
   "cell_type": "code",
   "execution_count": null,
   "id": "cf268561",
   "metadata": {},
   "outputs": [],
   "source": [
    "# Remove nodes with in-degree less than file_in_degree\n",
    "all_nodes = list(G.nodes(data=True))\n",
    "nodes_before = len(all_nodes)\n",
    "for node, attr in all_nodes:\n",
    "    if attr['type'] == \"namespace\" and G.in_degree(node) < namespace_in_degree:\n",
    "        G.remove_node(node)\n",
    "nodes_after = len(G.nodes(data=True))\n",
    "print(\"Nodes before:\", nodes_before)\n",
    "print(\"Nodes after:\", nodes_after)\n"
   ]
  },
  {
   "cell_type": "code",
   "execution_count": null,
   "id": "b9629d93",
   "metadata": {},
   "outputs": [],
   "source": [
    "graphs.draw_problem_graph(G, as_barpartite=False, with_labels=True)\n",
    "plt.savefig(\"../img/filtered_graph.png\", dpi=300, bbox_inches='tight')"
   ]
  }
 ],
 "metadata": {
  "kernelspec": {
   "display_name": "AR",
   "language": "python",
   "name": "ar"
  },
  "language_info": {
   "codemirror_mode": {
    "name": "ipython",
    "version": 3
   },
   "file_extension": ".py",
   "mimetype": "text/x-python",
   "name": "python",
   "nbconvert_exporter": "python",
   "pygments_lexer": "ipython3",
   "version": "3.12.3"
  }
 },
 "nbformat": 4,
 "nbformat_minor": 5
}
