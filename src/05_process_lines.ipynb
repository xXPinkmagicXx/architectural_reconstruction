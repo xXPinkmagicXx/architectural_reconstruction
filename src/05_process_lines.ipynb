{
 "cells": [
  {
   "cell_type": "code",
   "execution_count": null,
   "id": "607ce7e3",
   "metadata": {},
   "outputs": [],
   "source": [
    "import os\n",
    "from dotenv import load_dotenv\n",
    "load_dotenv()\n",
    "import constants as c\n",
    "import matplotlib.pyplot as plt\n",
    "import numpy as np\n",
    "from matplotlib.ticker import ScalarFormatter\n",
    "import matplotlib.cm as cm\n",
    "import matplotlib.colors as mcolors\n",
    "import utils"
   ]
  },
  {
   "cell_type": "code",
   "execution_count": null,
   "id": "47c7c2d7",
   "metadata": {},
   "outputs": [],
   "source": [
    "REFETCH_DATA = False"
   ]
  },
  {
   "cell_type": "code",
   "execution_count": null,
   "id": "609c2eb6",
   "metadata": {},
   "outputs": [],
   "source": [
    "azure_pat = os.getenv(c.AZURE_TOKEN_ENV_KEY)"
   ]
  },
  {
   "cell_type": "code",
   "execution_count": null,
   "id": "0b123afe",
   "metadata": {},
   "outputs": [],
   "source": [
    "lines = 0\n",
    "with open(c.USINGS_TXT_FILE_PATH, 'r') as f:\n",
    "    all_files = f.readlines()"
   ]
  },
  {
   "cell_type": "code",
   "execution_count": null,
   "id": "6344b20b",
   "metadata": {},
   "outputs": [],
   "source": [
    "lines = 0\n",
    "file_lines = dict()\n",
    "for line in all_files:\n",
    "    splitted = line.strip().split(\",\")\n",
    "    devops_url = splitted[0]\n",
    "    file_path = utils.get_file_path_from_devops_url(devops_url)\n",
    "    number = splitted[-1]\n",
    "    number = 0 if number == ''  else int(number)\n",
    "    lines += int(number)\n",
    "    file_lines[file_path] = int(number)\n"
   ]
  },
  {
   "cell_type": "code",
   "execution_count": null,
   "id": "2438a1c2",
   "metadata": {},
   "outputs": [],
   "source": [
    "print(f\"The total amount of lines in analyzed files: {lines}\")"
   ]
  },
  {
   "cell_type": "code",
   "execution_count": null,
   "id": "30ae10a0",
   "metadata": {},
   "outputs": [],
   "source": [
    "number_files = len(file_lines)\n",
    "total_number_of_lines = sum(file_lines.values())\n",
    "print(\"average number of lines: \", total_number_of_lines/number_files)"
   ]
  },
  {
   "cell_type": "code",
   "execution_count": null,
   "id": "3d44b77a",
   "metadata": {},
   "outputs": [],
   "source": [
    "sorted_files = sorted(file_lines.items(), key=lambda x: x[1], reverse=True)"
   ]
  },
  {
   "cell_type": "code",
   "execution_count": null,
   "id": "ef2f6bf3",
   "metadata": {},
   "outputs": [],
   "source": [
    "sorted_files"
   ]
  },
  {
   "cell_type": "code",
   "execution_count": null,
   "id": "931c6451",
   "metadata": {},
   "outputs": [],
   "source": [
    "over_files = utils.get_tuples_over(1000, sorted_files)\n",
    "n_over = len(over_files)\n",
    "print(f\"Number of files with more than 1000 lines: {n_over}\")"
   ]
  },
  {
   "cell_type": "code",
   "execution_count": null,
   "id": "1d5a5df7",
   "metadata": {},
   "outputs": [],
   "source": [
    "# Histrogram\n",
    "data = file_lines.values()\n",
    "n_bins = 20  # Number of bins for the histogram\n",
    "plt.figure(figsize=(10, 6))\n",
    "min_val = min(data)\n",
    "max_val = max(data)\n",
    "bins = np.logspace(np.log10(min_val), np.log10(max_val), num=n_bins)\n",
    "\n",
    "counts, bin_edges, patches = plt.hist(data, bins=bins, color='blue', alpha=0.7, edgecolor='black')\n",
    "plt.xscale('log')  # Set x-axis to logarithmic scale\n",
    "\n",
    "# Normalize the bin counts for the colormap\n",
    "norm = mcolors.LogNorm(vmin=min(bin_edges), vmax=max(bin_edges))\n",
    "cmap = cm.RdYlGn_r  # Reverse colormap to go from green to red\n",
    "\n",
    "\n",
    "\n",
    "# Add a legend for each bin\n",
    "for count, edge, patch in zip(counts, bin_edges[:-1], patches):\n",
    "    color = cmap(norm(edge))  # Map the count to a color\n",
    "    label = f'{int(edge):,} - {int(bin_edges[list(bin_edges).index(edge) + 1]):,}'\n",
    "    patch.set_label(label)\n",
    "    patch.set_facecolor(color)\n",
    "\n",
    "\n",
    "\n",
    "ax = plt.gca()\n",
    "ax.xaxis.set_major_formatter(ScalarFormatter())  # Format x-axis ticks as plain numbers\n",
    "fontsize = 12\n",
    "\n",
    "\n",
    "# Set font size for x and y ticks\n",
    "plt.tick_params(axis='x', labelsize=fontsize)  # Set font size for x-axis ticks\n",
    "plt.tick_params(axis='y', labelsize=fontsize)  # Set font size for y-axis ticks\n",
    "# Remove spines\n",
    "ax.spines['top'].set_visible(False)    # Remove the top spine\n",
    "ax.spines['right'].set_visible(False)  # Remove the right spine\n",
    "ax.spines['left'].set_visible(False)   # Optional: Remove the left spine\n",
    "\n",
    "# Plot grid, legend and labels \n",
    "plt.grid(visible=True, which='both', linestyle='--', linewidth=0.6, alpha=0.9)\n",
    "plt.legend(loc='upper right')  # Add legend in the upper-right corner\n",
    "plt.xlabel('Lines (in a file)', fontsize=fontsize)\n",
    "plt.ylabel('Frequency (# of files)', fontsize=fontsize)\n",
    "plt.title('BusinessLogic Lines of Code Distribution', fontsize=fontsize+4)\n",
    "# plt.show()\n",
    "plt.savefig('../img/lines_histogram.png', dpi=300, bbox_inches='tight')"
   ]
  }
 ],
 "metadata": {
  "kernelspec": {
   "display_name": "AR",
   "language": "python",
   "name": "ar"
  },
  "language_info": {
   "codemirror_mode": {
    "name": "ipython",
    "version": 3
   },
   "file_extension": ".py",
   "mimetype": "text/x-python",
   "name": "python",
   "nbconvert_exporter": "python",
   "pygments_lexer": "ipython3",
   "version": "3.12.3"
  }
 },
 "nbformat": 4,
 "nbformat_minor": 5
}
