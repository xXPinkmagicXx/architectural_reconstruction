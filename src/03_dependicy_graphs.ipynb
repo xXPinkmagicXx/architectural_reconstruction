{
 "cells": [
  {
   "cell_type": "code",
   "execution_count": null,
   "id": "607ce7e3",
   "metadata": {},
   "outputs": [],
   "source": [
    "import os\n",
    "from dotenv import load_dotenv\n",
    "load_dotenv()\n",
    "import constants as c\n",
    "import utils\n",
    "import networkx as nx\n",
    "import matplotlib.pyplot as plt\n",
    "import graphs"
   ]
  },
  {
   "cell_type": "code",
   "execution_count": null,
   "id": "609c2eb6",
   "metadata": {},
   "outputs": [],
   "source": [
    "azure_pat = os.getenv(c.AZURE_TOKEN_ENV_KEY)"
   ]
  },
  {
   "cell_type": "markdown",
   "id": "e486bfe1",
   "metadata": {},
   "source": [
    "# Create a dependicy graph\n",
    "Create a dependicy graph for all namespaces, to look at fan-in and fan-out\n",
    "Really the truly problematic case is when you have both high fan-in and high fan-out:\n",
    "\n",
    "**Low fan-in, low fan-out**: a module with little dependencies in either direction. All good.  \n",
    "**High fan-in, low fan-out**: a module that's highly depended upon, but itself doesn't depend on much. Like a low-level utility library.  \n",
    "**Low fan-in, hight fan-out**: a module that depends on lots of other modules, but a few if any modules depend on it.   \n",
    "You really can't avoid having one top-level module to tie your whole application together, and naturally this module will depend on each and every other module in the system.  \n",
    "**High fan-in, hight fan-out**: a very problematic module that can break / need changes whenever one of its many dependencies changes, and it'll in turn break many other parts in the system that rely on it.  "
   ]
  },
  {
   "cell_type": "markdown",
   "id": "461af792",
   "metadata": {},
   "source": [
    "## Visualize All Projects"
   ]
  },
  {
   "cell_type": "code",
   "execution_count": null,
   "id": "17f9fe3f",
   "metadata": {},
   "outputs": [],
   "source": [
    "# Flags \n",
    "DRAW_FULL_DEPENDANCY_GRAPH = True"
   ]
  },
  {
   "cell_type": "code",
   "execution_count": null,
   "id": "45392219",
   "metadata": {},
   "outputs": [],
   "source": [
    "G_namespaces = graphs.create_dependicy_graph_namespaces()\n",
    "G_filenames = graphs.create_dependicy_graph_file_names()"
   ]
  },
  {
   "cell_type": "code",
   "execution_count": null,
   "id": "78b54701",
   "metadata": {},
   "outputs": [],
   "source": [
    "# if DRAW_FULL_DEPENDANCY_GRAPH:\n",
    "#     pos = nx.spring_layout(G_namespaces, seed=42)  # positions for all nodes\n",
    "#     graphs.draw_graph(G_namespaces, pos, node_size=10)\n",
    "pos = nx.spring_layout(G_filenames, seed=42)  # positions for all nodes\n",
    "graphs.draw_graph(G_filenames, pos, node_size=200)\n",
    "plt.title(\"Dependency Graph\", fontsize=20)\n",
    "plt.savefig(c.FULL_DEPENDENCY_IMG_PATH, dpi=300, bbox_inches='tight')\n"
   ]
  },
  {
   "cell_type": "code",
   "execution_count": null,
   "id": "c578965b",
   "metadata": {},
   "outputs": [],
   "source": [
    "in_degree = G_filenames.in_degree() # Get the in degree of each node\n",
    "out_degree = G_filenames.out_degree() # Get out the degree of each node"
   ]
  },
  {
   "cell_type": "code",
   "execution_count": null,
   "id": "978016f7",
   "metadata": {},
   "outputs": [],
   "source": [
    "over = 15 \n",
    "in_degree_dict = dict(in_degree)\n",
    "in_degree_tuples = in_degree_dict.items() # Get the in degree dict as a list of tuples\n",
    "in_tuples_over = utils.get_tuples_over(over, in_degree_tuples) # Get the items over the threshold\n",
    "\n",
    "in_degree_tuples_soreted = sorted(in_tuples_over, key=lambda x: x[1], reverse=True) # Sort the in degree dict by value\n",
    "\n",
    "\n",
    "in_dict_over = utils.get_items_over(over, in_degree_dict)\n",
    "n_namespaces_over = len(in_dict_over) # Get the number of items over the threshold\n",
    "print(f\"Number of namespaces with in degree over {over}: {n_namespaces_over}\")\n",
    "print()\n"
   ]
  },
  {
   "cell_type": "code",
   "execution_count": null,
   "id": "bf988833",
   "metadata": {},
   "outputs": [],
   "source": [
    "in_degree_tuples_soreted[0:10]"
   ]
  },
  {
   "cell_type": "code",
   "execution_count": null,
   "id": "3106d182",
   "metadata": {},
   "outputs": [],
   "source": [
    "over = 15 \n",
    "out_degree_dict = dict(out_degree)\n",
    "out_degree_tuples = list(out_degree_dict.items()) # Get the in degree dict as a list of tuples\n",
    "out_tuples_over = utils.get_tuples_over(over, out_degree_tuples) # Get the items over the threshold\n",
    "out_degree_tuples_soreted = sorted(out_tuples_over, key=lambda x: x[1], reverse=True) # Sort the in degree dict by value\n",
    "n_namespaces_over = len(in_dict_over) # Get the number of items over the threshold\n",
    "print(f\"Number of namespaces with in degree over {over}: {n_namespaces_over}\")\n",
    "print()\n"
   ]
  },
  {
   "cell_type": "code",
   "execution_count": null,
   "id": "6a8124a1",
   "metadata": {},
   "outputs": [],
   "source": [
    "in_degree_tuples_soreted\n"
   ]
  },
  {
   "cell_type": "code",
   "execution_count": null,
   "id": "9ba83cf0",
   "metadata": {},
   "outputs": [],
   "source": [
    "out_degree_tuples_soreted"
   ]
  },
  {
   "cell_type": "code",
   "execution_count": null,
   "id": "bb612ec7",
   "metadata": {},
   "outputs": [],
   "source": [
    "# Histrogram\n",
    "data = out_degree_dict.values()\n",
    "n_bins = 20  # Number of bins for the histogram\n",
    "plt.figure(figsize=(10, 6))\n",
    "min_val = min(data)\n",
    "max_val = max(data)\n",
    "# bins = np.logspace(np.log10(min_val), np.log10(max_val), num=n_bins)\n",
    "\n",
    "counts, bin_edges, patches = plt.hist(data, color='blue', alpha=0.7, edgecolor='black')\n",
    "\n",
    "# Normalize the bin counts for the colormap\n",
    "# norm = mcolors.LogNorm(vmin=min(bin_edges), vmax=max(bin_edges))\n",
    "# cmap = cm.RdYlGn_r  # Reverse colormap to go from green to red\n",
    "\n",
    "\n",
    "\n",
    "# Add a legend for each bin\n",
    "# for count, edge, patch in zip(counts, bin_edges[:-1], patches):\n",
    "#     color = cmap(norm(edge))  # Map the count to a color\n",
    "#     label = f'{int(edge):,} - {int(bin_edges[list(bin_edges).index(edge) + 1]):,}'\n",
    "#     patch.set_label(label)\n",
    "#     patch.set_facecolor(color)\n",
    "\n",
    "\n",
    "\n",
    "ax = plt.gca()\n",
    "# ax.xaxis.set_major_formatter(ScalarFormatter())  # Format x-axis ticks as plain numbers\n",
    "fontsize = 12\n",
    "\n",
    "\n",
    "# Set font size for x and y ticks\n",
    "plt.tick_params(axis='x', labelsize=fontsize)  # Set font size for x-axis ticks\n",
    "plt.tick_params(axis='y', labelsize=fontsize)  # Set font size for y-axis ticks\n",
    "# Remove spines\n",
    "ax.spines['top'].set_visible(False)    # Remove the top spine\n",
    "ax.spines['right'].set_visible(False)  # Remove the right spine\n",
    "ax.spines['left'].set_visible(False)   # Optional: Remove the left spine\n",
    "\n",
    "# Plot grid, legend and labels \n",
    "plt.grid(visible=True, which='major', linestyle='--', linewidth=0.6, alpha=0.9)\n",
    "# plt.legend(loc='upper right')  # Add legend in the upper-right corner\n",
    "plt.xlabel('Lines (in a file)', fontsize=fontsize)\n",
    "plt.ylabel('Frequency (# of files)', fontsize=fontsize)\n",
    "plt.title('BusinessLogic Out Degree', fontsize=fontsize+4)"
   ]
  },
  {
   "cell_type": "code",
   "execution_count": null,
   "id": "5c010c3d",
   "metadata": {},
   "outputs": [],
   "source": [
    "# Histrogram\n",
    "data = in_degree_dict.values()\n",
    "n_bins = 20  # Number of bins for the histogram\n",
    "plt.figure(figsize=(10, 6))\n",
    "min_val = min(data)\n",
    "max_val = max(data)\n",
    "# bins = np.logspace(np.log10(min_val), np.log10(max_val), num=n_bins)\n",
    "\n",
    "counts, bin_edges, patches = plt.hist(data, color='blue', alpha=0.7, edgecolor='black')\n",
    "\n",
    "# Normalize the bin counts for the colormap\n",
    "# norm = mcolors.LogNorm(vmin=min(bin_edges), vmax=max(bin_edges))\n",
    "# cmap = cm.RdYlGn_r  # Reverse colormap to go from green to red\n",
    "\n",
    "\n",
    "\n",
    "# Add a legend for each bin\n",
    "# for count, edge, patch in zip(counts, bin_edges[:-1], patches):\n",
    "#     color = cmap(norm(edge))  # Map the count to a color\n",
    "#     label = f'{int(edge):,} - {int(bin_edges[list(bin_edges).index(edge) + 1]):,}'\n",
    "#     patch.set_label(label)\n",
    "#     patch.set_facecolor(color)\n",
    "\n",
    "\n",
    "\n",
    "ax = plt.gca()\n",
    "# ax.xaxis.set_major_formatter(ScalarFormatter())  # Format x-axis ticks as plain numbers\n",
    "fontsize = 12\n",
    "\n",
    "\n",
    "# Set font size for x and y ticks\n",
    "plt.tick_params(axis='x', labelsize=fontsize)  # Set font size for x-axis ticks\n",
    "plt.tick_params(axis='y', labelsize=fontsize)  # Set font size for y-axis ticks\n",
    "# Remove spines\n",
    "ax.spines['top'].set_visible(False)    # Remove the top spine\n",
    "ax.spines['right'].set_visible(False)  # Remove the right spine\n",
    "ax.spines['left'].set_visible(False)   # Optional: Remove the left spine\n",
    "\n",
    "# Plot grid, legend and labels \n",
    "plt.grid(visible=True, which='major', linestyle='--', linewidth=0.6, alpha=0.9)\n",
    "# plt.legend(loc='upper right')  # Add legend in the upper-right corner\n",
    "plt.xlabel('Lines (in a file)', fontsize=fontsize)\n",
    "plt.ylabel('Frequency (# of files)', fontsize=fontsize)\n",
    "plt.title('BusinessLogic Out Degree', fontsize=fontsize+4)"
   ]
  },
  {
   "cell_type": "code",
   "execution_count": null,
   "id": "f2a22e83",
   "metadata": {},
   "outputs": [],
   "source": []
  }
 ],
 "metadata": {
  "kernelspec": {
   "display_name": "AR",
   "language": "python",
   "name": "ar"
  },
  "language_info": {
   "codemirror_mode": {
    "name": "ipython",
    "version": 3
   },
   "file_extension": ".py",
   "mimetype": "text/x-python",
   "name": "python",
   "nbconvert_exporter": "python",
   "pygments_lexer": "ipython3",
   "version": "3.12.3"
  }
 },
 "nbformat": 4,
 "nbformat_minor": 5
}
