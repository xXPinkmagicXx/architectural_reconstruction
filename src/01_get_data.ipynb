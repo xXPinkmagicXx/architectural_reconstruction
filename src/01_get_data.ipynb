{
 "cells": [
  {
   "cell_type": "code",
   "execution_count": null,
   "id": "607ce7e3",
   "metadata": {},
   "outputs": [],
   "source": [
    "import os\n",
    "from dotenv import load_dotenv\n",
    "load_dotenv()\n",
    "import constants as c\n",
    "import utils\n",
    "import processing"
   ]
  },
  {
   "cell_type": "markdown",
   "id": "1b2e7927",
   "metadata": {},
   "source": [
    "# Gather Data\n",
    "# Generate `usings.txt`\n",
    "\n",
    "The file is places in the `data` folder. Here is a link to the generated file [usings.txt](../data/usings.txt)\n",
    "## Call Azure DevOps Apis\n",
    "\n",
    "We Call Azure devops apis to get data about the BusinessLogic Repository"
   ]
  },
  {
   "cell_type": "code",
   "execution_count": null,
   "id": "de6c5479",
   "metadata": {},
   "outputs": [],
   "source": [
    "# Flags\n",
    "REFETCH_DATA = False"
   ]
  },
  {
   "cell_type": "code",
   "execution_count": null,
   "id": "609c2eb6",
   "metadata": {},
   "outputs": [],
   "source": [
    "# Azure DevOps Personal Access Token\n",
    "azure_pat = os.getenv(c.AZURE_TOKEN_ENV_KEY)\n",
    "organisation = os.getenv(c.ORGANISATION_ENV_KEY)\n",
    "project = os.getenv(c.PROJECT_ENV_KEY)\n",
    "repository = os.getenv(c.REPOSITORY_ENV_KEY)"
   ]
  },
  {
   "cell_type": "code",
   "execution_count": null,
   "id": "585d443b",
   "metadata": {},
   "outputs": [],
   "source": [
    "print(c.ALL_FILES_URL)\n",
    "items_request_url = utils.get_items_request_url(organisation, project, repository)\n",
    "print(f\"Items request URL: {items_request_url}\")"
   ]
  },
  {
   "cell_type": "code",
   "execution_count": null,
   "id": "d0d21ccc",
   "metadata": {},
   "outputs": [],
   "source": [
    "response = utils.make_reqest(items_request_url, azure_pat, params=c.ALL_FILES_PARAMS)"
   ]
  },
  {
   "cell_type": "code",
   "execution_count": null,
   "id": "9f162cb5",
   "metadata": {},
   "outputs": [],
   "source": [
    "response_json = response.json()\n",
    "count = response_json[\"count\"]\n",
    "value = response_json[\"value\"]"
   ]
  },
  {
   "cell_type": "code",
   "execution_count": null,
   "id": "302b92b5",
   "metadata": {},
   "outputs": [],
   "source": [
    "print(\"The total number of files in the repository is: \", count)"
   ]
  },
  {
   "cell_type": "code",
   "execution_count": null,
   "id": "20654c39",
   "metadata": {},
   "outputs": [],
   "source": [
    "# The output of the API call is a JSON object with a list of files in the repository\n",
    "devops_url = value[100]['url'] "
   ]
  },
  {
   "cell_type": "code",
   "execution_count": null,
   "id": "9b327819",
   "metadata": {},
   "outputs": [],
   "source": [
    "file_response = utils.make_reqest(devops_url, azure_pat)"
   ]
  },
  {
   "cell_type": "code",
   "execution_count": null,
   "id": "b00a9845",
   "metadata": {},
   "outputs": [],
   "source": [
    "file_response_json = file_response.text"
   ]
  },
  {
   "cell_type": "code",
   "execution_count": null,
   "id": "aa966229",
   "metadata": {},
   "outputs": [],
   "source": [
    "# Get all C# files - filters out files in constants.FILES_TO_NOT_INCLUDE\n",
    "all_csharp_file = processing.get_all_csharp_files(items_request_url, azure_pat)"
   ]
  },
  {
   "cell_type": "code",
   "execution_count": null,
   "id": "6ed34428",
   "metadata": {},
   "outputs": [],
   "source": [
    "print(\"The BusinessLogic Files to use for analysis: \", len(all_csharp_file))"
   ]
  },
  {
   "cell_type": "code",
   "execution_count": null,
   "id": "801fbbdc",
   "metadata": {},
   "outputs": [],
   "source": [
    "# Save the usings to usings.txt \n",
    "# This can take a while around a minute or two\n",
    "if REFETCH_DATA:\n",
    "    utils.save_usings_to_file(all_csharp_file, azure_pat)\n",
    "else:\n",
    "    print(f\"Skipping {c.USINGS_TXT_FILE_PATH} file generation\")\n",
    "    print(\"If you want to regenerate the file, set REFETCH_DATA to True in the top\")"
   ]
  },
  {
   "cell_type": "code",
   "execution_count": null,
   "id": "e7e733be",
   "metadata": {},
   "outputs": [],
   "source": []
  }
 ],
 "metadata": {
  "kernelspec": {
   "display_name": "AR",
   "language": "python",
   "name": "ar"
  },
  "language_info": {
   "codemirror_mode": {
    "name": "ipython",
    "version": 3
   },
   "file_extension": ".py",
   "mimetype": "text/x-python",
   "name": "python",
   "nbconvert_exporter": "python",
   "pygments_lexer": "ipython3",
   "version": "3.12.3"
  }
 },
 "nbformat": 4,
 "nbformat_minor": 5
}
